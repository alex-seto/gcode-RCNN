{
 "cells": [
  {
   "cell_type": "code",
   "execution_count": 91,
   "metadata": {},
   "outputs": [],
   "source": [
    "import os\n",
    "import pandas as pd\n",
    "import sys"
   ]
  },
  {
   "cell_type": "code",
   "execution_count": null,
   "metadata": {},
   "outputs": [],
   "source": []
  },
  {
   "cell_type": "code",
   "execution_count": 96,
   "metadata": {},
   "outputs": [],
   "source": [
    "def open_gcode_file(gcode_file):\n",
    "    if gcode_file.endswith(\".gcode\"):\n",
    "        try:\n",
    "            with open(gcode_file, 'r') as r_f:\n",
    "                raw_gcode = r_f.read()\n",
    "            return raw_gcode\n",
    "        except Exception as e:\n",
    "            print(e)\n",
    "            return None\n",
    "    else:\n",
    "        print(\"Not a gcode file, returning None\")\n",
    "        return None\n",
    "\n",
    "def is_noncommand(line):\n",
    "    return line == '' or line[0] == ';'\n",
    "\n",
    "def get_unique_params(gcode_by_line):\n",
    "    temp = {}\n",
    "    for line in gcode_by_line:\n",
    "        if is_noncommand(line):\n",
    "            continue\n",
    "        list_of_commands = line.split(';', 1)[0].split(' ')\n",
    "        for elem in list_of_commands:\n",
    "            if len(elem):\n",
    "                if elem[0] not in temp:\n",
    "                    temp[elem[0]] = 0\n",
    "    return temp.keys()\n",
    "\n",
    "def parse_command(line):\n",
    "    UNIQUE_PARAMS = get_unique_params(gcode_by_line)\n",
    "    if is_noncommand(line):\n",
    "        return \n",
    "    command = {param: None for param in UNIQUE_PARAMS}\n",
    "    command_params = line.split(';', 1)[0].split(' ')\n",
    "    for param in command_params:\n",
    "        if len(param):\n",
    "            command[param[0]] = param[1:]\n",
    "    return pd.DataFrame(command, index = [0])\n",
    "\n",
    "def parse_gcode(gcode_by_line):\n",
    "    UNIQUE_PARAMS = get_unique_params(gcode_by_line)\n",
    "    gcode_df = pd.DataFrame(columns = UNIQUE_PARAMS)\n",
    "\n",
    "    for line in gcode_by_line:\n",
    "        command = parse_command(line)\n",
    "        if type(command) == pd.DataFrame:\n",
    "            gcode_df = pd.concat([gcode_df, command],  axis = 0, ignore_index = 0)\n",
    "    return gcode_df"
   ]
  },
  {
   "cell_type": "code",
   "execution_count": 97,
   "metadata": {},
   "outputs": [],
   "source": [
    "def main(gcode_file, output_file):\n",
    "    raw_gcode = open_gcode_file(gcode_file)\n",
    "    if type(raw_gcode) != str:\n",
    "        print(\"Error opening gcode\")\n",
    "    gcode_by_line = raw_gcode.split('\\n')\n",
    "    gcode_df = parse_gcode(gcode_by_line)\n",
    "    gcode_df.to_csv(output_file)"
   ]
  },
  {
   "cell_type": "code",
   "execution_count": 95,
   "metadata": {},
   "outputs": [
    {
     "name": "stdout",
     "output_type": "stream",
     "text": [
      "Parsing -f and saving output to /Users/alexseto/Library/Jupyter/runtime/kernel-b789f062-6e6c-4dbe-a097-41bddb72899e.json\n",
      "Not a gcode file, returning None\n",
      "Error opening gcode\n"
     ]
    },
    {
     "ename": "AttributeError",
     "evalue": "'NoneType' object has no attribute 'split'",
     "output_type": "error",
     "traceback": [
      "\u001b[0;31m---------------------------------------------------------------------------\u001b[0m",
      "\u001b[0;31mAttributeError\u001b[0m                            Traceback (most recent call last)",
      "\u001b[0;32m<ipython-input-95-149891299011>\u001b[0m in \u001b[0;36m<module>\u001b[0;34m\u001b[0m\n\u001b[1;32m      5\u001b[0m     \u001b[0moutput_file\u001b[0m \u001b[0;34m=\u001b[0m \u001b[0msys\u001b[0m\u001b[0;34m.\u001b[0m\u001b[0margv\u001b[0m\u001b[0;34m[\u001b[0m\u001b[0;36m2\u001b[0m\u001b[0;34m]\u001b[0m\u001b[0;34m\u001b[0m\u001b[0;34m\u001b[0m\u001b[0m\n\u001b[1;32m      6\u001b[0m     \u001b[0mprint\u001b[0m\u001b[0;34m(\u001b[0m\u001b[0;34m\"Parsing\"\u001b[0m\u001b[0;34m,\u001b[0m \u001b[0mgcode_file\u001b[0m\u001b[0;34m,\u001b[0m \u001b[0;34m\"and saving output to\"\u001b[0m\u001b[0;34m,\u001b[0m \u001b[0moutput_file\u001b[0m\u001b[0;34m)\u001b[0m\u001b[0;34m\u001b[0m\u001b[0;34m\u001b[0m\u001b[0m\n\u001b[0;32m----> 7\u001b[0;31m     \u001b[0mmain\u001b[0m\u001b[0;34m(\u001b[0m\u001b[0mgcode_file\u001b[0m\u001b[0;34m,\u001b[0m \u001b[0moutput_file\u001b[0m\u001b[0;34m)\u001b[0m\u001b[0;34m\u001b[0m\u001b[0;34m\u001b[0m\u001b[0m\n\u001b[0m\u001b[1;32m      8\u001b[0m \u001b[0;34m\u001b[0m\u001b[0m\n",
      "\u001b[0;32m<ipython-input-94-61f06c5c5a5f>\u001b[0m in \u001b[0;36mmain\u001b[0;34m(gcode_file, output_file)\u001b[0m\n\u001b[1;32m      3\u001b[0m     \u001b[0;32mif\u001b[0m \u001b[0mtype\u001b[0m\u001b[0;34m(\u001b[0m\u001b[0mraw_gcode\u001b[0m\u001b[0;34m)\u001b[0m \u001b[0;34m!=\u001b[0m \u001b[0mstr\u001b[0m\u001b[0;34m:\u001b[0m\u001b[0;34m\u001b[0m\u001b[0;34m\u001b[0m\u001b[0m\n\u001b[1;32m      4\u001b[0m         \u001b[0mprint\u001b[0m\u001b[0;34m(\u001b[0m\u001b[0;34m\"Error opening gcode\"\u001b[0m\u001b[0;34m)\u001b[0m\u001b[0;34m\u001b[0m\u001b[0;34m\u001b[0m\u001b[0m\n\u001b[0;32m----> 5\u001b[0;31m     \u001b[0mgcode_by_line\u001b[0m \u001b[0;34m=\u001b[0m \u001b[0mraw_gcode\u001b[0m\u001b[0;34m.\u001b[0m\u001b[0msplit\u001b[0m\u001b[0;34m(\u001b[0m\u001b[0;34m'\\n'\u001b[0m\u001b[0;34m)\u001b[0m\u001b[0;34m\u001b[0m\u001b[0;34m\u001b[0m\u001b[0m\n\u001b[0m\u001b[1;32m      6\u001b[0m     \u001b[0mgcode_df\u001b[0m \u001b[0;34m=\u001b[0m \u001b[0mparse_gcode\u001b[0m\u001b[0;34m(\u001b[0m\u001b[0mgcode_by_line\u001b[0m\u001b[0;34m)\u001b[0m\u001b[0;34m\u001b[0m\u001b[0;34m\u001b[0m\u001b[0m\n\u001b[1;32m      7\u001b[0m     \u001b[0mgcode_df\u001b[0m\u001b[0;34m.\u001b[0m\u001b[0mto_csv\u001b[0m\u001b[0;34m(\u001b[0m\u001b[0moutput_file\u001b[0m\u001b[0;34m)\u001b[0m\u001b[0;34m\u001b[0m\u001b[0;34m\u001b[0m\u001b[0m\n",
      "\u001b[0;31mAttributeError\u001b[0m: 'NoneType' object has no attribute 'split'"
     ]
    }
   ],
   "source": [
    "if __name__ == '__main__':\n",
    "    if len(sys.argv) != 3:\n",
    "        print(\"Please provide the correct amount of arguments\")\n",
    "    gcode_file = sys.argv[1]\n",
    "    output_file = sys.argv[2]\n",
    "    print(\"Parsing\", gcode_file, \"and saving output to\", output_file)\n",
    "    main(gcode_file, output_file)\n",
    "    "
   ]
  },
  {
   "cell_type": "code",
   "execution_count": null,
   "metadata": {},
   "outputs": [],
   "source": []
  }
 ],
 "metadata": {
  "kernelspec": {
   "display_name": "Python 3",
   "language": "python",
   "name": "python3"
  },
  "language_info": {
   "codemirror_mode": {
    "name": "ipython",
    "version": 3
   },
   "file_extension": ".py",
   "mimetype": "text/x-python",
   "name": "python",
   "nbconvert_exporter": "python",
   "pygments_lexer": "ipython3",
   "version": "3.7.6"
  }
 },
 "nbformat": 4,
 "nbformat_minor": 4
}
